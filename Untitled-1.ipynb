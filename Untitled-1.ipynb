{
 "cells": [
  {
   "cell_type": "code",
   "execution_count": 3,
   "id": "5a4a73b9",
   "metadata": {},
   "outputs": [],
   "source": [
    "# 📊 Data handling\n",
    "import pandas as pd\n",
    "import numpy as np\n",
    "\n",
    "# 📡 NBA API for pulling play-by-play and team info\n",
    "from nba_api.stats.endpoints import playbyplayv2\n",
    "from nba_api.stats.static import teams\n",
    "import time  # for handling API rate limits\n",
    "\n",
    "# 🤖 Modeling (no scikit-learn version)\n",
    "import xgboost as xgb  # gradient boosted trees for probabilities\n",
    "\n",
    "# 📈 Visualization\n",
    "import matplotlib.pyplot as plt\n",
    "import seaborn as sns\n",
    "import plotly.graph_objects as go  # optional for interactive graphs\n",
    "\n",
    "# ⚙️ Utilities\n",
    "import json\n",
    "from datetime import datetime\n",
    "\n"
   ]
  },
  {
   "cell_type": "code",
   "execution_count": null,
   "id": "f6dd7794",
   "metadata": {},
   "outputs": [],
   "source": [
    "def sigmoid(z):\n",
    "    return 1.0 / (1.0 + np.exp(-z))\n",
    "\n",
    "def calc_gradient(theta, X, y):\n",
    "    m = y.size\n",
    "    return (X.T @ (sigmoid(X @ theta) - y)/m)\n",
    "\n",
    "def gradient_desc(X, y, alpha=0.1, num_iter=100, tol=1e-7):\n",
    "    X_b = np.c_[np.ones((X.shape[0], 1)), X]\n",
    "\n",
    "    theta = np.zeros(X_b.shape[1])\n",
    "\n",
    "    for i in range(num_iter):\n",
    "        grad = calc_gradient(theta, X, y)\n",
    "        theta -= alpha * grad\n",
    "\n",
    "        if np.linalg.norm(grad) < tol:\n",
    "            break\n",
    "\n",
    "    return theta\n",
    "\n",
    "def predict_proba(X, theta):\n",
    "    X_b = np.c_[np.ones((X.shape[0], 1)), X]\n",
    "    return sigmoid(X_b @ theta)\n",
    "\n",
    "def predict(X, theta, threshold = 0.5):\n",
    "    return (predict_proba(X, theta) >= threshold).astype(int)\n",
    "\n"
   ]
  }
 ],
 "metadata": {
  "kernelspec": {
   "display_name": "Python 3",
   "language": "python",
   "name": "python3"
  },
  "language_info": {
   "codemirror_mode": {
    "name": "ipython",
    "version": 3
   },
   "file_extension": ".py",
   "mimetype": "text/x-python",
   "name": "python",
   "nbconvert_exporter": "python",
   "pygments_lexer": "ipython3",
   "version": "3.11.9"
  }
 },
 "nbformat": 4,
 "nbformat_minor": 5
}
