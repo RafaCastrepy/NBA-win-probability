{
 "cells": [
  {
   "cell_type": "code",
   "execution_count": 5,
   "id": "34dd2a83",
   "metadata": {},
   "outputs": [],
   "source": [
    "import pandas as pd\n",
    "import matplotlib.pyplot as plt\n",
    "from nba_api.stats.endpoints import playbyplayv2\n",
    "from sklearn.linear_model import LogisticRegression\n",
    "import random\n"
   ]
  },
  {
   "cell_type": "code",
   "execution_count": 14,
   "id": "5c7521e8",
   "metadata": {},
   "outputs": [],
   "source": [
    "nba_seasons = {\n",
    "    \"1996-97\": {\"games\": 1189, \"first_id\": \"0029600001\"},\n",
    "    \"1997-98\": {\"games\": 1189, \"first_id\": \"0029700001\"},\n",
    "    \"1998-99\": {\"games\": 864,  \"first_id\": \"0029800001\"},  # lockout\n",
    "    \"1999-00\": {\"games\": 1160, \"first_id\": \"0029900001\"},\n",
    "    \"2000-01\": {\"games\": 1160, \"first_id\": \"0020000001\"},\n",
    "    \"2001-02\": {\"games\": 1160, \"first_id\": \"0020100001\"},\n",
    "    \"2002-03\": {\"games\": 1160, \"first_id\": \"0020200001\"},\n",
    "    \"2003-04\": {\"games\": 1160, \"first_id\": \"0020300001\"},\n",
    "    \"2004-05\": {\"games\": 1230, \"first_id\": \"0020400001\"},\n",
    "    \"2005-06\": {\"games\": 1230, \"first_id\": \"0020500001\"},\n",
    "    \"2006-07\": {\"games\": 1230, \"first_id\": \"0020600001\"},\n",
    "    \"2007-08\": {\"games\": 1230, \"first_id\": \"0020700001\"},\n",
    "    \"2008-09\": {\"games\": 1230, \"first_id\": \"0020800001\"},\n",
    "    \"2009-10\": {\"games\": 1230, \"first_id\": \"0020900001\"},\n",
    "    \"2010-11\": {\"games\": 1230, \"first_id\": \"0021000001\"},\n",
    "    \"2011-12\": {\"games\": 990,  \"first_id\": \"0021100001\"},  # lockout\n",
    "    \"2012-13\": {\"games\": 1230, \"first_id\": \"0021200001\"},\n",
    "    \"2013-14\": {\"games\": 1230, \"first_id\": \"0021300001\"},\n",
    "    \"2014-15\": {\"games\": 1230, \"first_id\": \"0021400001\"},\n",
    "    \"2015-16\": {\"games\": 1230, \"first_id\": \"0021500001\"},\n",
    "    \"2016-17\": {\"games\": 1230, \"first_id\": \"0021600001\"},\n",
    "    \"2017-18\": {\"games\": 1230, \"first_id\": \"0021700001\"},\n",
    "    \"2018-19\": {\"games\": 1230, \"first_id\": \"0021800001\"},\n",
    "    \"2019-20\": {\"games\": 1059, \"first_id\": \"0021900001\"},  # covid\n",
    "    \"2020-21\": {\"games\": 1080, \"first_id\": \"0022000001\"},  # covid\n",
    "    \"2021-22\": {\"games\": 1230, \"first_id\": \"0022100001\"},\n",
    "    \"2022-23\": {\"games\": 1230, \"first_id\": \"0022200001\"},\n",
    "}\n",
    "keys = list(nba_seasons.keys())\n"
   ]
  },
  {
   "cell_type": "code",
   "execution_count": 7,
   "id": "f1038543",
   "metadata": {},
   "outputs": [],
   "source": [
    "\n",
    "def makeDf(game_id):\n",
    "    pbp = playbyplayv2.PlayByPlayV2(game_id=game_id)\n",
    "    df = pbp.get_data_frames()[0]\n",
    "\n",
    "    # Clean\n",
    "    df = df.dropna(subset=[\"SCORE\"])\n",
    "    df[[\"h_pts\", \"a_pts\"]] = df[\"SCORE\"].str.split(\" - \", expand=True).astype(int)\n",
    "\n",
    "    # Convert clock → game minute\n",
    "    def to_minute(period, clock):\n",
    "        mins, secs = map(int, clock.split(\":\"))\n",
    "        elapsed = (period-1)*12 + (12 - mins - secs/60)\n",
    "        return int(elapsed) + 1\n",
    "\n",
    "    df[\"minute\"] = df.apply(lambda r: to_minute(r[\"PERIOD\"], r[\"PCTIMESTRING\"]), axis=1)\n",
    "\n",
    "    return df\n",
    "\n",
    "\n"
   ]
  },
  {
   "cell_type": "code",
   "execution_count": 10,
   "id": "b026b118",
   "metadata": {},
   "outputs": [
    {
     "name": "stdout",
     "output_type": "stream",
     "text": [
      "Skipping 0020400459 (2004-05): HTTPSConnectionPool(host='stats.nba.com', port=443): Read timed out. (read timeout=30)\n",
      "Skipping 0020401100 (2004-05): HTTPSConnectionPool(host='stats.nba.com', port=443): Read timed out. (read timeout=30)\n",
      "Skipping 0029800741 (1998-99): Columns must be same length as key\n",
      "Skipping 0029900289 (1999-00): HTTPSConnectionPool(host='stats.nba.com', port=443): Read timed out. (read timeout=30)\n",
      "Skipping 0020700924 (2007-08): HTTPSConnectionPool(host='stats.nba.com', port=443): Read timed out. (read timeout=30)\n"
     ]
    }
   ],
   "source": [
    "def makeMinuteDf(df):\n",
    "    if df.empty or \"h_pts\" not in df.columns or df[\"minute\"].max() is None:\n",
    "        return pd.DataFrame()\n",
    "\n",
    "    minutes = []\n",
    "\n",
    "    max_minute = int(df[\"minute\"].max())\n",
    "\n",
    "    for m in range(1, max_minute+1):\n",
    "        snapshot = df[df[\"minute\"] <= m]\n",
    "        if snapshot.empty:\n",
    "            # If it's the very first minute, pad with 0–0\n",
    "            if m == 1:\n",
    "                minutes.append([1, 0, 0, 0])\n",
    "            continue\n",
    "        h_pts = snapshot[\"h_pts\"].max()\n",
    "        a_pts = snapshot[\"a_pts\"].max()\n",
    "        score_diff = h_pts - a_pts\n",
    "        minutes.append([m, h_pts, a_pts, score_diff])\n",
    "\n",
    "    minute_df = pd.DataFrame(minutes, columns=[\"minute\",\"h_pts\",\"a_pts\",\"score_diff\"])\n",
    "\n",
    "    # Target = final outcome\n",
    "    final_h = df[\"h_pts\"].max()\n",
    "    final_a = df[\"a_pts\"].max()\n",
    "    winner = 1 if final_h > final_a else 0\n",
    "    minute_df[\"home_win\"] = winner\n",
    "\n",
    "    return minute_df\n",
    "\n",
    "pbp_df=pd.DataFrame()\n",
    "for i in range (100):\n",
    "    year = random.choice(keys)\n",
    "    game = random.randint(1, nba_seasons[year]['games'])\n",
    "    first_id = nba_seasons[year]['first_id']\n",
    "    prefix = first_id[:-4]\n",
    "    game_id = f\"{prefix}{game:04d}\"\n",
    "    try:\n",
    "        tempMinDf = makeMinuteDf(makeDf(game_id))\n",
    "        tempMinDf[\"game_id\"] = game_id\n",
    "        tempMinDf[\"season\"] = year \n",
    "        pbp_df = pd.concat([pbp_df, tempMinDf], ignore_index=True)\n",
    "    except Exception as e:\n",
    "        print(f\"Skipping {game_id} ({year}): {e}\")\n",
    "\n",
    "pbp_df.to_csv(\"game_prob.csv\", index=False)\n"
   ]
  },
  {
   "cell_type": "code",
   "execution_count": 13,
   "id": "78da7222",
   "metadata": {},
   "outputs": [
    {
     "name": "stdout",
     "output_type": "stream",
     "text": [
      "Total games: 95\n",
      "Games with >80 rows: 0\n",
      "No game_id exceeds 80 rows ✅\n"
     ]
    }
   ],
   "source": [
    "import pandas as pd\n",
    "\n",
    "# Load your file\n",
    "df = pd.read_csv(\"game_prob.csv\")\n",
    "\n",
    "# Count rows per game\n",
    "counts = df[\"game_id\"].value_counts()\n",
    "\n",
    "# Games with too many rows (duplicates/append errors)\n",
    "dupes = counts[counts > 80]\n",
    "\n",
    "print(f\"Total games: {df['game_id'].nunique()}\")\n",
    "print(f\"Games with >80 rows: {len(dupes)}\")\n",
    "\n",
    "if not dupes.empty:\n",
    "    print(\"\\nProblematic game_ids:\")\n",
    "    for game_id, cnt in dupes.items():\n",
    "        print(f\"{game_id} → {cnt} rows\")\n",
    "else:\n",
    "    print(\"No game_id exceeds 80 rows ✅\")\n"
   ]
  }
 ],
 "metadata": {
  "kernelspec": {
   "display_name": "Python 3",
   "language": "python",
   "name": "python3"
  },
  "language_info": {
   "codemirror_mode": {
    "name": "ipython",
    "version": 3
   },
   "file_extension": ".py",
   "mimetype": "text/x-python",
   "name": "python",
   "nbconvert_exporter": "python",
   "pygments_lexer": "ipython3",
   "version": "3.11.9"
  }
 },
 "nbformat": 4,
 "nbformat_minor": 5
}
