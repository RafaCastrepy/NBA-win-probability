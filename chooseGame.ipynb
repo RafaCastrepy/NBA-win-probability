{
 "cells": [
  {
   "cell_type": "code",
   "execution_count": null,
   "id": "f0b27385",
   "metadata": {},
   "outputs": [],
   "source": [
    "from nba_api.stats.endpoints import leaguegamefinder\n",
    "from nba_api.stats.endpoints import leaguedashteamstats\n",
    "from nba_api.stats.endpoints import franchisehistory\n",
    "from nba_api.stats.static import teams\n",
    "from nba_api.stats.endpoints import playbyplayv2\n",
    "import pandas as pd\n",
    "import re\n",
    "\n"
   ]
  },
  {
   "cell_type": "code",
   "execution_count": 4,
   "id": "11196f39",
   "metadata": {},
   "outputs": [],
   "source": [
    "pattern = r\"^(\\d{4})-(\\d{2})$\"\n",
    "\n",
    "def valid_seasons(str):\n",
    "    match = re.match(pattern, str)\n",
    "    if not match:\n",
    "        return False\n",
    "    \n",
    "    start_year = int(match.group(1))\n",
    "    end_year = int(match.group(2))\n",
    "\n",
    "    expected_end = (start_year + 1) % 100\n",
    "    if end_year != expected_end:\n",
    "        return False\n",
    "    all_seasons = leaguedashteamstats.LeagueDashTeamStats().available_seasons\n",
    "    return str in all_seasons"
   ]
  },
  {
   "cell_type": "code",
   "execution_count": 15,
   "id": "cbe45799",
   "metadata": {},
   "outputs": [
    {
     "name": "stdout",
     "output_type": "stream",
     "text": [
      "Teams from 1996-97 to present (30 teams):\n",
      "['ATL', 'BKN', 'BOS', 'CHA', 'CHI', 'CLE', 'DAL', 'DEN', 'DET', 'GSW', 'HOU', 'IND', 'LAC', 'LAL', 'MEM', 'MIA', 'MIL', 'MIN', 'NOP', 'NYK', 'OKC', 'ORL', 'PHI', 'PHX', 'POR', 'SAC', 'SAS', 'TOR', 'UTA', 'WAS']\n"
     ]
    }
   ],
   "source": [
    "\n",
    "\n",
    "franchises = franchisehistory.FranchiseHistory().get_data_frames()[0]\n",
    "franchises['START_YEAR'] = pd.to_numeric(franchises['START_YEAR'])\n",
    "franchises['END_YEAR'] = pd.to_numeric(franchises['END_YEAR'])\n",
    "\n",
    "\n",
    "filtered = franchises[franchises['END_YEAR'] >= 1996]\n",
    "\n",
    "\n",
    "nba_teams = pd.DataFrame(teams.get_teams())\n",
    "\n",
    "\n",
    "merged = filtered.merge(nba_teams, left_on=\"TEAM_ID\", right_on=\"id\", how=\"left\")\n",
    "\n",
    "\n",
    "team_abbrs = merged['abbreviation'].dropna().unique().tolist()\n",
    "team_abbrs.sort()\n",
    "\n",
    "print(f\"Teams from 1996-97 to present ({len(team_abbrs)} teams):\")\n",
    "print(team_abbrs)\n"
   ]
  },
  {
   "cell_type": "code",
   "execution_count": null,
   "id": "7c930a05",
   "metadata": {},
   "outputs": [
    {
     "name": "stdout",
     "output_type": "stream",
     "text": [
      "Choose a team:\n",
      "1. ATL\n",
      "2. BKN\n",
      "3. BOS\n",
      "4. CHA\n",
      "5. CHI\n",
      "6. CLE\n",
      "7. DAL\n",
      "8. DEN\n",
      "9. DET\n",
      "10. GSW\n",
      "11. HOU\n",
      "12. IND\n",
      "13. LAC\n",
      "14. LAL\n",
      "15. MEM\n",
      "16. MIA\n",
      "17. MIL\n",
      "18. MIN\n",
      "19. NOP\n",
      "20. NYK\n",
      "21. OKC\n",
      "22. ORL\n",
      "23. PHI\n",
      "24. PHX\n",
      "25. POR\n",
      "26. SAC\n",
      "27. SAS\n",
      "28. TOR\n",
      "29. UTA\n",
      "30. WAS\n"
     ]
    }
   ],
   "source": [
    "print(\"Choose a team:\")\n",
    "for i, t in enumerate(team_abbrs, start=1):\n",
    "    print(f\"{i}. {t}\")\n",
    "\n",
    "choice = int(input(\"Enter number: \"))\n",
    "team = team_abbrs[choice-1]\n",
    "\n",
    "print(f\"You picked {team}\")"
   ]
  },
  {
   "cell_type": "code",
   "execution_count": null,
   "id": "1934095c",
   "metadata": {},
   "outputs": [],
   "source": [
    "games = leaguegamefinder.LeagueGameFinder(season_nullable='2022-23').get_data_frames()[0]\n",
    "team1 = \"GSW\"  # Golden State Warriors\n",
    "team2 = \"BOS\"  # Boston Celtics\n",
    "\n",
    "matchups = games[games['MATCHUP'].str.contains(team1) & games['MATCHUP'].str.contains(team2)]\n",
    "\n",
    "pd.set_option(\"display.max_columns\", None)\n",
    "display(matchups[['GAME_ID', 'GAME_DATE', 'MATCHUP', 'WL']])\n",
    "\n",
    "\n",
    "game_id = matchups.iloc[0]['GAME_ID']  # for example, first one\n",
    "pbp = playbyplayv2.PlayByPlayV2(game_id=game_id).get_data_frames()[0]\n"
   ]
  }
 ],
 "metadata": {
  "kernelspec": {
   "display_name": "Python 3",
   "language": "python",
   "name": "python3"
  },
  "language_info": {
   "codemirror_mode": {
    "name": "ipython",
    "version": 3
   },
   "file_extension": ".py",
   "mimetype": "text/x-python",
   "name": "python",
   "nbconvert_exporter": "python",
   "pygments_lexer": "ipython3",
   "version": "3.11.9"
  }
 },
 "nbformat": 4,
 "nbformat_minor": 5
}
